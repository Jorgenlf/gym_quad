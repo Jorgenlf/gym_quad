{
 "cells": [
  {
   "cell_type": "code",
   "execution_count": 1,
   "metadata": {},
   "outputs": [],
   "source": [
    "import numpy as np\n",
    "import matplotlib.pyplot as plt\n",
    "import gym\n",
    "import gym_quad\n",
    "import os\n",
    "\n",
    "from gym_quad.utils.controllers import PI, PID\n",
    "from mpl_toolkits.mplot3d import Axes3D\n",
    "from stable_baselines3 import PPO\n",
    "from utils import *\n",
    "\n"
   ]
  },
  {
   "cell_type": "code",
   "execution_count": 2,
   "metadata": {},
   "outputs": [],
   "source": [
    "def run_scen(scenario):\n",
    "    sim_dfs=[]\n",
    "    for i in range(2):\n",
    "        path=\"./log\\Experiment 103\\/\"+scenario+\"/agents/last_model.pkl\"\n",
    "        env = gym.make(\"PathColav3d-v0\", scenario=scenario)\n",
    "        agent = PPO.load(path)\n",
    "        sim_df,prog = simulate_environment(env, agent)\n",
    "        sim_df.to_csv(r'simdata.csv')\n",
    "        calculate_IAE(sim_df)\n",
    "        #plot_attitude(sim_df)\n",
    "        #plot_velocity(sim_df)\n",
    "        #plot_angular_velocity(sim_df)\n",
    "        #plot_control_inputs([sim_df])\n",
    "        #plot_control_errors([sim_df])\n",
    "        #plot_3d(env, sim_df)\n",
    "        sim_df['prog']=prog[:-1]\n",
    "        sim_dfs.append(sim_df)\n",
    "    return sim_dfs"
   ]
  },
  {
   "cell_type": "code",
   "execution_count": 99,
   "metadata": {},
   "outputs": [],
   "source": [
    "def stats(sim_dfs,scenario):\n",
    "    e_means=[]\n",
    "    e_stds=[]\n",
    "    h_means=[]\n",
    "    h_stds=[]\n",
    "    for t in range(0,10000,1):\n",
    "        e=[]\n",
    "        h=[]\n",
    "        for sim_df in sim_dfs:\n",
    "            try:\n",
    "                e.append(sim_df['e'].abs()[t])\n",
    "            except:\n",
    "                pass\n",
    "                #continue#break\n",
    "            try:\n",
    "                h.append(sim_df['h'].abs()[t])\n",
    "            except:\n",
    "                pass\n",
    "        if len(e)>0:\n",
    "            e_means.append(np.mean(e))\n",
    "            e_stds.append(np.std(e))\n",
    "            h_means.append(np.mean(h))\n",
    "            h_stds.append(np.std(h))\n",
    "\n",
    "        #if t>2000:\n",
    "        #    print(e)\n",
    "    e_means=np.array(e_means)\n",
    "    h_means=np.array(h_means)\n",
    "    e_stds=np.array(e_stds)\n",
    "    h_stds=np.array(h_stds)\n",
    "    t=np.array(range(0,len(e_means),1))/100\n",
    "    plt.plot(t,e_means)\n",
    "    plt.fill_between(t,e_means-e_stds,e_means+e_stds,alpha=0.3)\n",
    "    plt.plot(t,h_means)\n",
    "    plt.fill_between(t,h_means-h_stds,h_means+h_stds,alpha=0.3)\n",
    "    plt.grid()\n",
    "    plt.legend(['e','h'])\n",
    "    plt.xlabel('Time [s]')\n",
    "    plt.ylabel('Tracking Error [m]')\n",
    "    plt.savefig(scenario+'.pdf')"
   ]
  },
  {
   "cell_type": "code",
   "execution_count": null,
   "metadata": {},
   "outputs": [],
   "source": [
    "def stats_ape(sim_dfs,scenario):\n",
    "    err_mean=[]\n",
    "    err_stds=[]\n",
    "    for t in range(0,10000,1):\n",
    "            err=[]\n",
    "            \n",
    "            for sim_df in sim_dfs:\n",
    "                try:\n",
    "                    err.append(np.sqrt(sim_df['e'][t]**2+sim_df['h'][t]**2))\n",
    "                except:\n",
    "                    pass\n",
    "                \n",
    "            if len(err)>0:\n",
    "                err_mean.append(np.mean(err))\n",
    "                err_stds.append(np.std(err))\n",
    "\n",
    "    err_mean=np.array(err_mean)\n",
    "    err_stds=np.array(err_stds)\n",
    "    t=np.array(range(0,len(err_mean),1))/100\n",
    "    plt.plot(t,err_mean)\n",
    "    plt.fill_between(t,err_mean-err_stds,err_mean+err_stds,alpha=0.3)\n",
    "\n",
    "    plt.grid()\n",
    "    plt.legend(['Absolute Path Error'])\n",
    "    plt.xlabel('Time [s]')\n",
    "    plt.ylabel('Abslute Path Error [m]')\n",
    "    plt.savefig(scenario+'_ATE.pdf')"
   ]
  },
  {
   "cell_type": "code",
   "execution_count": 4,
   "metadata": {},
   "outputs": [
    {
     "name": "stdout",
     "output_type": "stream",
     "text": [
      "RADAR_CNN CONFIG\n",
      "\tIN_CHANNELS = 1\n",
      "\tKERNEL_SIZE = 5\n",
      "\tPADDING     = 2\n",
      "\tSTRIDE      = 2\n",
      "Sequential(\n",
      "  (0): Conv2d(1, 3, kernel_size=(5, 5), stride=(1, 1), padding=(2, 2), padding_mode=circular)\n",
      "  (1): ReLU()\n",
      "  (2): Conv2d(3, 3, kernel_size=(5, 5), stride=(2, 2), padding=(2, 2), padding_mode=circular)\n",
      "  (3): ReLU()\n",
      "  (4): Conv2d(3, 1, kernel_size=(5, 5), stride=(2, 2), padding=(2, 2), padding_mode=circular)\n",
      "  (5): Flatten(start_dim=1, end_dim=-1)\n",
      ")\n",
      "LidarCNN initializing, CNN input is torch.Size([1, 1, 15, 15]) and output is torch.Size([1, 16])\n",
      "Passed waypoint 2\n",
      "Passed waypoint 3\n",
      "Passed waypoint 4\n",
      "Passed waypoint 5\n",
      "Passed waypoint 6\n",
      "AUV reached target!\n",
      "IAE Cross track: 24409.715061308954, IAE Vertical track: 13059.959330905254\n",
      "RADAR_CNN CONFIG\n",
      "\tIN_CHANNELS = 1\n",
      "\tKERNEL_SIZE = 5\n",
      "\tPADDING     = 2\n",
      "\tSTRIDE      = 2\n",
      "Sequential(\n",
      "  (0): Conv2d(1, 3, kernel_size=(5, 5), stride=(1, 1), padding=(2, 2), padding_mode=circular)\n",
      "  (1): ReLU()\n",
      "  (2): Conv2d(3, 3, kernel_size=(5, 5), stride=(2, 2), padding=(2, 2), padding_mode=circular)\n",
      "  (3): ReLU()\n",
      "  (4): Conv2d(3, 1, kernel_size=(5, 5), stride=(2, 2), padding=(2, 2), padding_mode=circular)\n",
      "  (5): Flatten(start_dim=1, end_dim=-1)\n",
      ")\n",
      "LidarCNN initializing, CNN input is torch.Size([1, 1, 15, 15]) and output is torch.Size([1, 16])\n",
      "Passed waypoint 2\n",
      "Passed waypoint 3\n",
      "Passed waypoint 4\n",
      "Passed waypoint 5\n",
      "Passed waypoint 6\n",
      "AUV collided!\n",
      "IAE Cross track: 58526.62958426453, IAE Vertical track: 21723.240727065462\n"
     ]
    }
   ],
   "source": [
    "# scenarios = [\"line\",\"line_new\",\"horizontal_new\", \"3d_new\",\"intermediate\", \"proficient\", \"advanced\", \"expert\"]\n",
    "# for scenario in scenarios:\n",
    "#     #sim_dfs=run_scen(scenario)\n",
    "#     stats_ape(sim_dfs,scenario)"
   ]
  },
  {
   "cell_type": "code",
   "execution_count": 15,
   "metadata": {},
   "outputs": [
    {
     "name": "stdout",
     "output_type": "stream",
     "text": [
      "RADAR_CNN CONFIG\n",
      "\tIN_CHANNELS = 1\n",
      "\tKERNEL_SIZE = 5\n",
      "\tPADDING     = 2\n",
      "\tSTRIDE      = 2\n",
      "Sequential(\n",
      "  (0): Conv2d(1, 3, kernel_size=(5, 5), stride=(1, 1), padding=(2, 2), padding_mode=circular)\n",
      "  (1): ReLU()\n",
      "  (2): Conv2d(3, 3, kernel_size=(5, 5), stride=(2, 2), padding=(2, 2), padding_mode=circular)\n",
      "  (3): ReLU()\n",
      "  (4): Conv2d(3, 1, kernel_size=(5, 5), stride=(2, 2), padding=(2, 2), padding_mode=circular)\n",
      "  (5): Flatten(start_dim=1, end_dim=-1)\n",
      ")\n",
      "LidarCNN initializing, CNN input is torch.Size([1, 1, 15, 15]) and output is torch.Size([1, 16])\n",
      "Passed waypoint 2\n",
      "Passed waypoint 3\n",
      "Passed waypoint 4\n",
      "Passed waypoint 5\n",
      "Passed waypoint 6\n",
      "IAE Cross track: 19234.67440180728, IAE Vertical track: 18308.392644337007\n",
      "RADAR_CNN CONFIG\n",
      "\tIN_CHANNELS = 1\n",
      "\tKERNEL_SIZE = 5\n",
      "\tPADDING     = 2\n",
      "\tSTRIDE      = 2\n",
      "Sequential(\n",
      "  (0): Conv2d(1, 3, kernel_size=(5, 5), stride=(1, 1), padding=(2, 2), padding_mode=circular)\n",
      "  (1): ReLU()\n",
      "  (2): Conv2d(3, 3, kernel_size=(5, 5), stride=(2, 2), padding=(2, 2), padding_mode=circular)\n",
      "  (3): ReLU()\n",
      "  (4): Conv2d(3, 1, kernel_size=(5, 5), stride=(2, 2), padding=(2, 2), padding_mode=circular)\n",
      "  (5): Flatten(start_dim=1, end_dim=-1)\n",
      ")\n",
      "LidarCNN initializing, CNN input is torch.Size([1, 1, 15, 15]) and output is torch.Size([1, 16])\n",
      "Passed waypoint 2\n",
      "IAE Cross track: 5893.9022786808455, IAE Vertical track: 5299.862144359107\n"
     ]
    }
   ],
   "source": [
    "sim_dfs=run_scen('intermediate')"
   ]
  },
  {
   "cell_type": "code",
   "execution_count": 17,
   "metadata": {},
   "outputs": [
    {
     "data": {
      "text/plain": [
       "0.5"
      ]
     },
     "execution_count": 17,
     "metadata": {},
     "output_type": "execute_result"
    }
   ],
   "source": [
    "def failure_rate(sim_dfs):\n",
    "    failures=0\n",
    "    for sim_df in sim_dfs:\n",
    "        if sim_df['prog'].values[-1]<0.90:\n",
    "            failures+=1\n",
    "    return failures/len(sim_dfs)\n",
    "\n",
    "failure_rate(sim_dfs)"
   ]
  },
  {
   "cell_type": "code",
   "execution_count": null,
   "metadata": {},
   "outputs": [],
   "source": [
    "# def collision_rate(sim_dfs):\n",
    "    "
   ]
  }
 ],
 "metadata": {
  "kernelspec": {
   "display_name": "Python 3",
   "language": "python",
   "name": "python3"
  },
  "language_info": {
   "codemirror_mode": {
    "name": "ipython",
    "version": 3
   },
   "file_extension": ".py",
   "mimetype": "text/x-python",
   "name": "python",
   "nbconvert_exporter": "python",
   "pygments_lexer": "ipython3",
   "version": "3.7.10"
  },
  "orig_nbformat": 4,
  "vscode": {
   "interpreter": {
    "hash": "916dbcbb3f70747c44a77c7bcd40155683ae19c65e1c03b4aa3499c5328201f1"
   }
  }
 },
 "nbformat": 4,
 "nbformat_minor": 2
}
