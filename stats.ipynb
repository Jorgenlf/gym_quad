{
 "cells": [
  {
   "cell_type": "code",
   "execution_count": 1,
   "metadata": {},
   "outputs": [],
   "source": [
    "import numpy as np\n",
    "import matplotlib.pyplot as plt\n",
    "import gymnasium as gym\n",
    "import gym_quad\n",
    "import os\n",
    "\n",
    "from gym_quad.utils.controllers import PI, PID\n",
    "from mpl_toolkits.mplot3d import Axes3D\n",
    "from stable_baselines3 import PPO\n",
    "from utils import *\n",
    "\n"
   ]
  },
  {
   "cell_type": "code",
   "execution_count": 2,
   "metadata": {},
   "outputs": [],
   "source": [
    "def run_scen(scenario):\n",
    "    sim_dfs=[]\n",
    "    for i in range(2):\n",
    "        path=\"./log\\Experiment 103\\/\"+scenario+\"/agents/last_model.pkl\"\n",
    "        env = gym.make(\"PathColav3d-v0\", scenario=scenario)\n",
    "        agent = PPO.load(path)\n",
    "        sim_df,prog = simulate_environment(env, agent)\n",
    "        sim_df.to_csv(r'simdata.csv')\n",
    "        calculate_IAE(sim_df)\n",
    "        #plot_attitude(sim_df)\n",
    "        #plot_velocity(sim_df)\n",
    "        #plot_angular_velocity(sim_df)\n",
    "        #plot_control_inputs([sim_df])\n",
    "        #plot_control_errors([sim_df])\n",
    "        #plot_3d(env, sim_df)\n",
    "        sim_df['prog']=prog[:-1]\n",
    "        sim_dfs.append(sim_df)\n",
    "    return sim_dfs"
   ]
  },
  {
   "cell_type": "code",
   "execution_count": 3,
   "metadata": {},
   "outputs": [],
   "source": [
    "def stats(sim_dfs,scenario):\n",
    "    e_means=[]\n",
    "    e_stds=[]\n",
    "    h_means=[]\n",
    "    h_stds=[]\n",
    "    for t in range(0,10000,1):\n",
    "        e=[]\n",
    "        h=[]\n",
    "        for sim_df in sim_dfs:\n",
    "            try:\n",
    "                e.append(sim_df['e'].abs()[t])\n",
    "            except:\n",
    "                pass\n",
    "                #continue#break\n",
    "            try:\n",
    "                h.append(sim_df['h'].abs()[t])\n",
    "            except:\n",
    "                pass\n",
    "        if len(e)>0:\n",
    "            e_means.append(np.mean(e))\n",
    "            e_stds.append(np.std(e))\n",
    "            h_means.append(np.mean(h))\n",
    "            h_stds.append(np.std(h))\n",
    "\n",
    "        #if t>2000:\n",
    "        #    print(e)\n",
    "    e_means=np.array(e_means)\n",
    "    h_means=np.array(h_means)\n",
    "    e_stds=np.array(e_stds)\n",
    "    h_stds=np.array(h_stds)\n",
    "    t=np.array(range(0,len(e_means),1))/100\n",
    "    plt.plot(t,e_means)\n",
    "    plt.fill_between(t,e_means-e_stds,e_means+e_stds,alpha=0.3)\n",
    "    plt.plot(t,h_means)\n",
    "    plt.fill_between(t,h_means-h_stds,h_means+h_stds,alpha=0.3)\n",
    "    plt.grid()\n",
    "    plt.legend(['e','h'])\n",
    "    plt.xlabel('Time [s]')\n",
    "    plt.ylabel('Tracking Error [m]')\n",
    "    plt.savefig(scenario+'.pdf')"
   ]
  },
  {
   "cell_type": "code",
   "execution_count": 4,
   "metadata": {},
   "outputs": [],
   "source": [
    "def stats_ape(sim_dfs,scenario):\n",
    "    err_mean=[]\n",
    "    err_stds=[]\n",
    "    for t in range(0,10000,1):\n",
    "            err=[]\n",
    "            \n",
    "            for sim_df in sim_dfs:\n",
    "                try:\n",
    "                    err.append(np.sqrt(sim_df['e'][t]**2+sim_df['h'][t]**2))\n",
    "                except:\n",
    "                    pass\n",
    "                \n",
    "            if len(err)>0:\n",
    "                err_mean.append(np.mean(err))\n",
    "                err_stds.append(np.std(err))\n",
    "\n",
    "    err_mean=np.array(err_mean)\n",
    "    err_stds=np.array(err_stds)\n",
    "    t=np.array(range(0,len(err_mean),1))/100\n",
    "    plt.plot(t,err_mean)\n",
    "    plt.fill_between(t,err_mean-err_stds,err_mean+err_stds,alpha=0.3)\n",
    "\n",
    "    plt.grid()\n",
    "    plt.legend(['Absolute Path Error'])\n",
    "    plt.xlabel('Time [s]')\n",
    "    plt.ylabel('Abslute Path Error [m]')\n",
    "    plt.savefig(scenario+'_ATE.pdf')"
   ]
  },
  {
   "cell_type": "code",
   "execution_count": 5,
   "metadata": {},
   "outputs": [],
   "source": [
    "# scenarios = [\"line\",\"line_new\",\"horizontal_new\", \"3d_new\",\"intermediate\", \"proficient\", \"advanced\", \"expert\"]\n",
    "# for scenario in scenarios:\n",
    "#     #sim_dfs=run_scen(scenario)\n",
    "#     stats_ape(sim_dfs,scenario)"
   ]
  },
  {
   "cell_type": "code",
   "execution_count": 6,
   "metadata": {},
   "outputs": [
    {
     "ename": "NameNotFound",
     "evalue": "Environment PathColav3d doesn't exist. ",
     "output_type": "error",
     "traceback": [
      "\u001b[1;31m---------------------------------------------------------------------------\u001b[0m",
      "\u001b[1;31mNameNotFound\u001b[0m                              Traceback (most recent call last)",
      "Cell \u001b[1;32mIn[6], line 1\u001b[0m\n\u001b[1;32m----> 1\u001b[0m sim_dfs\u001b[38;5;241m=\u001b[39m\u001b[43mrun_scen\u001b[49m\u001b[43m(\u001b[49m\u001b[38;5;124;43m'\u001b[39;49m\u001b[38;5;124;43mintermediate\u001b[39;49m\u001b[38;5;124;43m'\u001b[39;49m\u001b[43m)\u001b[49m\n",
      "Cell \u001b[1;32mIn[2], line 5\u001b[0m, in \u001b[0;36mrun_scen\u001b[1;34m(scenario)\u001b[0m\n\u001b[0;32m      3\u001b[0m \u001b[38;5;28;01mfor\u001b[39;00m i \u001b[38;5;129;01min\u001b[39;00m \u001b[38;5;28mrange\u001b[39m(\u001b[38;5;241m2\u001b[39m):\n\u001b[0;32m      4\u001b[0m     path\u001b[38;5;241m=\u001b[39m\u001b[38;5;124m\"\u001b[39m\u001b[38;5;124m./log\u001b[39m\u001b[38;5;124m\\\u001b[39m\u001b[38;5;124mExperiment 103\u001b[39m\u001b[38;5;124m\\\u001b[39m\u001b[38;5;124m/\u001b[39m\u001b[38;5;124m\"\u001b[39m\u001b[38;5;241m+\u001b[39mscenario\u001b[38;5;241m+\u001b[39m\u001b[38;5;124m\"\u001b[39m\u001b[38;5;124m/agents/last_model.pkl\u001b[39m\u001b[38;5;124m\"\u001b[39m\n\u001b[1;32m----> 5\u001b[0m     env \u001b[38;5;241m=\u001b[39m \u001b[43mgym\u001b[49m\u001b[38;5;241;43m.\u001b[39;49m\u001b[43mmake\u001b[49m\u001b[43m(\u001b[49m\u001b[38;5;124;43m\"\u001b[39;49m\u001b[38;5;124;43mPathColav3d-v0\u001b[39;49m\u001b[38;5;124;43m\"\u001b[39;49m\u001b[43m,\u001b[49m\u001b[43m \u001b[49m\u001b[43mscenario\u001b[49m\u001b[38;5;241;43m=\u001b[39;49m\u001b[43mscenario\u001b[49m\u001b[43m)\u001b[49m\n\u001b[0;32m      6\u001b[0m     agent \u001b[38;5;241m=\u001b[39m PPO\u001b[38;5;241m.\u001b[39mload(path)\n\u001b[0;32m      7\u001b[0m     sim_df,prog \u001b[38;5;241m=\u001b[39m simulate_environment(env, agent)\n",
      "File \u001b[1;32mc:\\Condashit\\envs\\quad3D\\lib\\site-packages\\gym\\envs\\registration.py:569\u001b[0m, in \u001b[0;36mmake\u001b[1;34m(id, max_episode_steps, autoreset, apply_api_compatibility, disable_env_checker, **kwargs)\u001b[0m\n\u001b[0;32m    563\u001b[0m         logger\u001b[38;5;241m.\u001b[39mwarn(\n\u001b[0;32m    564\u001b[0m             \u001b[38;5;124mf\u001b[39m\u001b[38;5;124m\"\u001b[39m\u001b[38;5;124mUsing the latest versioned environment `\u001b[39m\u001b[38;5;132;01m{\u001b[39;00mnew_env_id\u001b[38;5;132;01m}\u001b[39;00m\u001b[38;5;124m` \u001b[39m\u001b[38;5;124m\"\u001b[39m\n\u001b[0;32m    565\u001b[0m             \u001b[38;5;124mf\u001b[39m\u001b[38;5;124m\"\u001b[39m\u001b[38;5;124minstead of the unversioned environment `\u001b[39m\u001b[38;5;132;01m{\u001b[39;00m\u001b[38;5;28mid\u001b[39m\u001b[38;5;132;01m}\u001b[39;00m\u001b[38;5;124m`.\u001b[39m\u001b[38;5;124m\"\u001b[39m\n\u001b[0;32m    566\u001b[0m         )\n\u001b[0;32m    568\u001b[0m     \u001b[38;5;28;01mif\u001b[39;00m spec_ \u001b[38;5;129;01mis\u001b[39;00m \u001b[38;5;28;01mNone\u001b[39;00m:\n\u001b[1;32m--> 569\u001b[0m         \u001b[43m_check_version_exists\u001b[49m\u001b[43m(\u001b[49m\u001b[43mns\u001b[49m\u001b[43m,\u001b[49m\u001b[43m \u001b[49m\u001b[43mname\u001b[49m\u001b[43m,\u001b[49m\u001b[43m \u001b[49m\u001b[43mversion\u001b[49m\u001b[43m)\u001b[49m\n\u001b[0;32m    570\u001b[0m         \u001b[38;5;28;01mraise\u001b[39;00m error\u001b[38;5;241m.\u001b[39mError(\u001b[38;5;124mf\u001b[39m\u001b[38;5;124m\"\u001b[39m\u001b[38;5;124mNo registered env with id: \u001b[39m\u001b[38;5;132;01m{\u001b[39;00m\u001b[38;5;28mid\u001b[39m\u001b[38;5;132;01m}\u001b[39;00m\u001b[38;5;124m\"\u001b[39m)\n\u001b[0;32m    572\u001b[0m _kwargs \u001b[38;5;241m=\u001b[39m spec_\u001b[38;5;241m.\u001b[39mkwargs\u001b[38;5;241m.\u001b[39mcopy()\n",
      "File \u001b[1;32mc:\\Condashit\\envs\\quad3D\\lib\\site-packages\\gym\\envs\\registration.py:219\u001b[0m, in \u001b[0;36m_check_version_exists\u001b[1;34m(ns, name, version)\u001b[0m\n\u001b[0;32m    216\u001b[0m \u001b[38;5;28;01mif\u001b[39;00m get_env_id(ns, name, version) \u001b[38;5;129;01min\u001b[39;00m registry:\n\u001b[0;32m    217\u001b[0m     \u001b[38;5;28;01mreturn\u001b[39;00m\n\u001b[1;32m--> 219\u001b[0m \u001b[43m_check_name_exists\u001b[49m\u001b[43m(\u001b[49m\u001b[43mns\u001b[49m\u001b[43m,\u001b[49m\u001b[43m \u001b[49m\u001b[43mname\u001b[49m\u001b[43m)\u001b[49m\n\u001b[0;32m    220\u001b[0m \u001b[38;5;28;01mif\u001b[39;00m version \u001b[38;5;129;01mis\u001b[39;00m \u001b[38;5;28;01mNone\u001b[39;00m:\n\u001b[0;32m    221\u001b[0m     \u001b[38;5;28;01mreturn\u001b[39;00m\n",
      "File \u001b[1;32mc:\\Condashit\\envs\\quad3D\\lib\\site-packages\\gym\\envs\\registration.py:197\u001b[0m, in \u001b[0;36m_check_name_exists\u001b[1;34m(ns, name)\u001b[0m\n\u001b[0;32m    194\u001b[0m namespace_msg \u001b[38;5;241m=\u001b[39m \u001b[38;5;124mf\u001b[39m\u001b[38;5;124m\"\u001b[39m\u001b[38;5;124m in namespace \u001b[39m\u001b[38;5;132;01m{\u001b[39;00mns\u001b[38;5;132;01m}\u001b[39;00m\u001b[38;5;124m\"\u001b[39m \u001b[38;5;28;01mif\u001b[39;00m ns \u001b[38;5;28;01melse\u001b[39;00m \u001b[38;5;124m\"\u001b[39m\u001b[38;5;124m\"\u001b[39m\n\u001b[0;32m    195\u001b[0m suggestion_msg \u001b[38;5;241m=\u001b[39m \u001b[38;5;124mf\u001b[39m\u001b[38;5;124m\"\u001b[39m\u001b[38;5;124mDid you mean: `\u001b[39m\u001b[38;5;132;01m{\u001b[39;00msuggestion[\u001b[38;5;241m0\u001b[39m]\u001b[38;5;132;01m}\u001b[39;00m\u001b[38;5;124m`?\u001b[39m\u001b[38;5;124m\"\u001b[39m \u001b[38;5;28;01mif\u001b[39;00m suggestion \u001b[38;5;28;01melse\u001b[39;00m \u001b[38;5;124m\"\u001b[39m\u001b[38;5;124m\"\u001b[39m\n\u001b[1;32m--> 197\u001b[0m \u001b[38;5;28;01mraise\u001b[39;00m error\u001b[38;5;241m.\u001b[39mNameNotFound(\n\u001b[0;32m    198\u001b[0m     \u001b[38;5;124mf\u001b[39m\u001b[38;5;124m\"\u001b[39m\u001b[38;5;124mEnvironment \u001b[39m\u001b[38;5;132;01m{\u001b[39;00mname\u001b[38;5;132;01m}\u001b[39;00m\u001b[38;5;124m doesn\u001b[39m\u001b[38;5;124m'\u001b[39m\u001b[38;5;124mt exist\u001b[39m\u001b[38;5;132;01m{\u001b[39;00mnamespace_msg\u001b[38;5;132;01m}\u001b[39;00m\u001b[38;5;124m. \u001b[39m\u001b[38;5;132;01m{\u001b[39;00msuggestion_msg\u001b[38;5;132;01m}\u001b[39;00m\u001b[38;5;124m\"\u001b[39m\n\u001b[0;32m    199\u001b[0m )\n",
      "\u001b[1;31mNameNotFound\u001b[0m: Environment PathColav3d doesn't exist. "
     ]
    }
   ],
   "source": [
    "sim_dfs=run_scen('intermediate')"
   ]
  },
  {
   "cell_type": "code",
   "execution_count": null,
   "metadata": {},
   "outputs": [
    {
     "data": {
      "text/plain": [
       "0.5"
      ]
     },
     "execution_count": 17,
     "metadata": {},
     "output_type": "execute_result"
    }
   ],
   "source": [
    "def failure_rate(sim_dfs):\n",
    "    failures=0\n",
    "    for sim_df in sim_dfs:\n",
    "        if sim_df['prog'].values[-1]<0.90:\n",
    "            failures+=1\n",
    "    return failures/len(sim_dfs)\n",
    "\n",
    "failure_rate(sim_dfs)"
   ]
  },
  {
   "cell_type": "code",
   "execution_count": null,
   "metadata": {},
   "outputs": [],
   "source": [
    "# def collision_rate(sim_dfs):\n",
    "    "
   ]
  }
 ],
 "metadata": {
  "kernelspec": {
   "display_name": "Python 3",
   "language": "python",
   "name": "python3"
  },
  "language_info": {
   "codemirror_mode": {
    "name": "ipython",
    "version": 3
   },
   "file_extension": ".py",
   "mimetype": "text/x-python",
   "name": "python",
   "nbconvert_exporter": "python",
   "pygments_lexer": "ipython3",
   "version": "3.10.13"
  },
  "orig_nbformat": 4,
  "vscode": {
   "interpreter": {
    "hash": "916dbcbb3f70747c44a77c7bcd40155683ae19c65e1c03b4aa3499c5328201f1"
   }
  }
 },
 "nbformat": 4,
 "nbformat_minor": 2
}
