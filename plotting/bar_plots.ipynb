{
 "cells": [
  {
   "cell_type": "markdown",
   "metadata": {},
   "source": [
    "### Imports"
   ]
  },
  {
   "cell_type": "code",
   "metadata": {
    "ExecuteTime": {
     "end_time": "2024-10-23T14:12:12.465180Z",
     "start_time": "2024-10-23T14:12:12.462878Z"
    }
   },
   "source": [
    "import os\n",
    "import sys\n",
    "import re\n",
    "import matplotlib.pyplot as plt\n",
    "import numpy as np\n",
    "import pandas as pd\n",
    "# Add the parent directory to the system path\n",
    "parent_dir = os.path.abspath(os.path.join(os.getcwd(), os.pardir))\n",
    "sys.path.insert(0, parent_dir)"
   ],
   "outputs": [],
   "execution_count": 28
  },
  {
   "cell_type": "markdown",
   "metadata": {},
   "source": [
    "### Globals for the plotting"
   ]
  },
  {
   "cell_type": "code",
   "metadata": {
    "ExecuteTime": {
     "end_time": "2024-10-23T14:12:12.515255Z",
     "start_time": "2024-10-23T14:12:12.511615Z"
    }
   },
   "source": [
    "plot_w = 6\n",
    "plot_h = 18\n",
    "# The above are opposite :) hehe, # TODO leeezm\n",
    "\n",
    "plt.style.use('ggplot')\n",
    "plt.rc('font', family='serif')\n",
    "plt.rc('xtick', labelsize=12)\n",
    "plt.rc('ytick', labelsize=12)\n",
    "plt.rc('axes', labelsize=12)\n",
    "\n",
    "yellow = '#FFFF00' # Yellow\n",
    "purple = '#990099' # Purple\n",
    "cyan = '#00E3D4'   # Cyan\n",
    "\n",
    "CB_color_cycle = ['#377eb8', '#ff7f00', '#4daf4a', '#984ea3']  # Blue, orange, green, purple\n",
    "CB_color_cycle2 = ['#539dd0', '#da8836', '#53c14f', '#af56bc']  # Blue, orange, green, purple\n",
    "\n",
    "color_success = '#82ABE6'  # CB_color_cycle2[0]  # '#377eb8'\n",
    "color_collision = '#e6a19d'  # CB_color_cycle2[1]  # '#ff7f00'\n",
    "\n",
    "#color_collision = '#7A2281'\n",
    "#color_success = '#FBFCBF'\n",
    "\n",
    "env_green = '#C1D4D6'\n",
    "percept_blue = '#DCE3E9'\n",
    "\n",
    "base_color = color_success\n",
    "line_width_bars = 1\n",
    "\n",
    "cr_hatching_1 = '////'\n",
    "cr_hatching_2 = '\\\\\\\\\\\\\\\\'\n",
    "\n",
    "\n",
    "#Output directory\n",
    "output_dir = os.path.join(parent_dir, 'plotting', 'replotting_results', 'bar_plots')\n",
    "os.makedirs(output_dir, exist_ok=True)\n",
    "\n",
    "plt.rcParams['hatch.linewidth'] = 0.1 # set hatch width\n",
    "\n",
    "scenarios_to_labels = {'advanced':'Advanced',\n",
    "                       'cave':'Cave',\n",
    "                       'deadend':'Deadend',\n",
    "                       'helix':'Helix',\n",
    "                       'horizontal':'Horizontal',\n",
    "                       'house_easy':'House-easy',\n",
    "                       'house_easy_obstacles':'House-easy-obs',\n",
    "                       'house_hard':'House-hard',\n",
    "                       'house_hard_obstacles':'House-hard-obs',\n",
    "                       'vertical':'Vertical'}\n"
   ],
   "outputs": [],
   "execution_count": 29
  },
  {
   "cell_type": "markdown",
   "metadata": {},
   "source": [
    "### Helper functions"
   ]
  },
  {
   "cell_type": "code",
   "metadata": {
    "ExecuteTime": {
     "end_time": "2024-10-23T14:12:12.564308Z",
     "start_time": "2024-10-23T14:12:12.557731Z"
    }
   },
   "source": [
    "def sim_to_ep_metric_mapping(sim_metric_name): #Extend this if other metrics wanted crosscheck the report.txt and test_summary.csv for the names\n",
    "    if sim_metric_name == 'Avg. Speed [m/s]':\n",
    "        return 'Avg Speed'\n",
    "    elif sim_metric_name == 'Avg. Absolute Path Error [m]':\n",
    "        return 'Avg Absolute Path Error'\n",
    "    else:\n",
    "        return sim_metric_name\n",
    "\n",
    "def extract_metric(report_path, metric_name):\n",
    "    with open(report_path, 'r') as file:\n",
    "        content = file.read()\n",
    "        # Adjusted regex pattern to be more flexible with spaces and optional percentage sign\n",
    "        match = re.search(rf'{re.escape(metric_name)}\\s*\\[?\\%?\\]?\\s*([\\d.]+)', content)\n",
    "        if match:\n",
    "            return float(match.group(1))\n",
    "        else:\n",
    "            return None\n",
    "\n",
    "def collect_agent_metrics(base_dir, agent_name):\n",
    "    '''\n",
    "    Input: \n",
    "    base_dir - the directory where the results are stored, \n",
    "    agent_name - the name of the agent whose metrics are to be collected\n",
    "    \n",
    "    Output:\n",
    "    metrics - a dictionary containing the average metrics for each scenario.\n",
    "    n_episode_metrics - a dictionary containing the metrics over n episodes for each scenario.\n",
    "    \n",
    "    The Episode metrics df has the form {Collision:[n_ep metrics for scenario 1, n_ep metrics for scenario 2, ...], \n",
    "                                            Success: [n_ep metrics for scenario 1, n_ep metrics for scenario 2, ...], \n",
    "                                            ...}\n",
    "    \n",
    "    The code assumes that the test scenarios appear in the same order in the ../resultsgen/agent_name folder.\n",
    "    '''                \n",
    "\n",
    "    metrics = {\n",
    "        'Collision Rate': [],\n",
    "        'Success Rate': [],\n",
    "        'Progression': [],\n",
    "        'Avg. Number of Timesteps': [],\n",
    "        'Avg. Speed [m/s]': [],\n",
    "        'Avg. Absolute Path Error [m]': []\n",
    "    }\n",
    "    scenarios = []\n",
    "    n_episode_metrics = {\n",
    "        'Collision': [],\n",
    "        'Success': [],\n",
    "        'Progression': [],\n",
    "        'Timesteps': [],\n",
    "        'Avg Speed': [],\n",
    "        'Avg Absolute Path Error': []\n",
    "    }\n",
    "\n",
    "    for test_scen in os.listdir(base_dir):\n",
    "        test_scen_dir = os.path.join(base_dir, test_scen)\n",
    "        if os.path.isdir(test_scen_dir):\n",
    "            agent_dir_path = os.path.join(test_scen_dir, agent_name)\n",
    "            report_path = os.path.join(agent_dir_path, 'report.txt')\n",
    "            csv_path = os.path.join(agent_dir_path, 'test_summary.csv')\n",
    "            if os.path.exists(report_path):\n",
    "                for metric_name in metrics.keys():\n",
    "                    metric_value = extract_metric(report_path, metric_name)\n",
    "                    if metric_value is not None:\n",
    "                        metrics[metric_name].append(metric_value)\n",
    "                scenarios.append(test_scen)\n",
    "            if os.path.exists(csv_path):\n",
    "                n_ep_metrics_df = pd.read_csv(csv_path)\n",
    "                for metric_name in n_episode_metrics.keys():\n",
    "                    n_episode_metrics[metric_name].append(n_ep_metrics_df[metric_name].values)\n",
    "\n",
    "\n",
    "    return metrics, n_episode_metrics, scenarios\n",
    "\n",
    "\n",
    "def reorder_data(metrics, n_episode_metrics, scenarios):\n",
    "    #When deadend\n",
    "    # reordering = {2:0, #helix \n",
    "    #               0:1, #cave\n",
    "    #               8:2, #vertical\n",
    "    #               3:3, #horizontal\n",
    "    #               1:4, #deadend\n",
    "    #               4:5, #house easy\n",
    "    #               5:6, #house easy obstacles\n",
    "    #               6:7, #house hard\n",
    "    #               7:8} #house hard obstacles\n",
    "\n",
    "    #When no deadend and advanced added:    \n",
    "    reordering = {\n",
    "            0:0, #advanced\n",
    "            2:1, #helix\n",
    "            3:2, #horizontal\n",
    "            8:3, #vertical\n",
    "            1:4, #cave\n",
    "            4:5, #house easy\n",
    "            5:6, #house easy obstacles\n",
    "            6:7, #house hard\n",
    "            7:8, #house hard obstacles\n",
    "            } \n",
    "\n",
    "    for metric, m_list in metrics.items():\n",
    "        new_metric_list = [0,0,0,0,0,0,0,0]\n",
    "        for i in range(len(m_list)):\n",
    "            new_metric_list[reordering[i]] = m_list[i]\n",
    "        metrics[metric] = new_metric_list\n",
    "\n",
    "    for metric, m_list in n_episode_metrics.items():\n",
    "        new_metric_list = [0,0,0,0,0,0,0,0]\n",
    "        for i in range(len(m_list)):\n",
    "            new_metric_list[reordering[i]] = m_list[i]\n",
    "        n_episode_metrics[metric] = new_metric_list\n",
    "\n",
    "    new_scenarios = [0,0,0,0,0,0,0,0]\n",
    "    for i in range(len(scenarios)):\n",
    "        new_scenarios[reordering[i]] = scenarios[i]\n",
    "    scenarios = new_scenarios\n",
    "\n",
    "    return metrics, n_episode_metrics, scenarios\n",
    "\n",
    "\n",
    "def calculate_confidence_intervals(n_episode_metrics): \n",
    "    confidence_intervals = {}\n",
    "    for metric_name, values in n_episode_metrics.items():\n",
    "        means = [np.mean(v) for v in values]\n",
    "        sems = [np.std(v)/np.sqrt(len(v)) for v in values]\n",
    "        cis = [1.96 * sem for sem in sems]\n",
    "        confidence_intervals[metric_name] = (means, cis)\n",
    "    return confidence_intervals\n"
   ],
   "outputs": [],
   "execution_count": 30
  },
  {
   "cell_type": "markdown",
   "metadata": {},
   "source": [
    "### Plotting functions"
   ]
  },
  {
   "cell_type": "code",
   "metadata": {
    "ExecuteTime": {
     "end_time": "2024-10-23T14:12:12.633741Z",
     "start_time": "2024-10-23T14:12:12.608899Z"
    }
   },
   "source": [
    "def visualize_metrics(metrics, scenarios, metric_name, ylabel, show_ci=False, episode_metrics=None,save_to_file=False):\n",
    "    values = metrics[metric_name]\n",
    "    \n",
    "    ep_metric_name = sim_to_ep_metric_mapping(metric_name)\n",
    "    means, cis = calculate_confidence_intervals(episode_metrics)[ep_metric_name]\n",
    "    \n",
    "    # Sort bars by success rate\n",
    "    # Combine the lists into a list of tuples\n",
    "    combined = list(zip(metrics['Success Rate'], values, means, cis, scenarios))\n",
    "    # Sort the combined list by success_rates in descending order\n",
    "    combined.sort(key=lambda x: x[0], reverse=True)\n",
    "    # Unzip the combined list back into individual lists\n",
    "    _, values, means, cis, scenarios = zip(*combined)    \n",
    "    \n",
    "    fig, ax = plt.subplots(figsize=(plot_h, plot_w))\n",
    "    \n",
    "    \n",
    "    if show_ci:\n",
    "        ax.bar(scenarios, means, yerr=cis, color=base_color, edgecolor='black', linewidth=line_width_bars, capsize=5)\n",
    "    else:\n",
    "        ax.bar(scenarios, values, color=base_color, edgecolor='black', linewidth=line_width_bars)\n",
    "        \n",
    "    ax.set_xlabel('Scenarios', fontsize=16)\n",
    "    ax.set_ylabel(ylabel, fontsize=16)\n",
    "    ax.set_xticks(range(len(scenarios)))\n",
    "    scenarios_labels = [scenarios_to_labels[scen] for scen in scenarios]\n",
    "    ax.set_xticklabels(scenarios_labels)\n",
    "    for label in ax.get_xticklabels():\n",
    "        label.set_fontsize(16)\n",
    "\n",
    "    plt.tight_layout()\n",
    "    if save_to_file:\n",
    "        plt.savefig(os.path.join(output_dir, f'progression_new.pdf'), bbox_inches = 'tight')\n",
    "\n",
    "    \n",
    "    plt.show()\n",
    "\n",
    "# def visualize_percentages_together_one_agent(metrics, scenarios): #Unused\n",
    "#     metric_names = ['Success Rate', 'Collision Rate', 'Progression']\n",
    "#     colors = ['#00E3D4', '#F68AF0', '#3343A7'] # cyan, pink, blue\n",
    "#     percentage_metrics = {name: metrics[name] for name in metric_names}\n",
    "\n",
    "#     x = np.arange(len(scenarios))\n",
    "#     width = 0.2\n",
    "\n",
    "#     fig, ax = plt.subplots(figsize=(12, 8))\n",
    "    \n",
    "#     for i, (metric_name, values) in enumerate(percentage_metrics.items()):\n",
    "#         ax.bar(x + width*i, values, width, label=metric_name, color=colors[i])\n",
    "\n",
    "#     ax.set_xlabel('Scenarios')\n",
    "#     ax.set_ylabel('Percentage')\n",
    "#     ax.set_xticks(x + width)\n",
    "#     ax.set_xticklabels(scenarios, rotation=45, ha='right')\n",
    "#     ax.legend()\n",
    "#     plt.tight_layout()\n",
    "#     plt.show()\n",
    "\n",
    "def visualize_two_agents(metrics1, metrics2, scenarios, metric_name, ylabel, show_ci=False, episode_metrics1 =None, episode_metrics2=None, label1='Agent 1', label2='Agent 2',save_to_file=False):\n",
    "    values1 = metrics1[metric_name]\n",
    "    values2 = metrics2[metric_name]\n",
    "\n",
    "    if show_ci:\n",
    "        ep_metric_name = sim_to_ep_metric_mapping(metric_name)\n",
    "        means1, cis1 = calculate_confidence_intervals(episode_metrics1)[ep_metric_name]\n",
    "        means2, cis2 = calculate_confidence_intervals(episode_metrics2)[ep_metric_name]\n",
    "    \n",
    "    if metric_name == \"Progression\":\n",
    "        values1 = [v*100 for v in values1]\n",
    "        values2 = [v*100 for v in values2]\n",
    "        means1 = [v*100 for v in means1]\n",
    "        means2 = [v*100 for v in means2]\n",
    "        cis1 = [v*100 for v in cis1]\n",
    "        cis2 = [v*100 for v in cis2]\n",
    "\n",
    "    x = np.arange(len(scenarios))\n",
    "    width = 0.4\n",
    "    \n",
    "    fig, ax = plt.subplots(figsize=(plot_h, plot_w))\n",
    "    if show_ci:\n",
    "        ax.bar(x - width/2, means1, width, yerr=cis1, label=label1, color=base_color, edgecolor='black', linewidth=line_width_bars,error_kw=dict(lw=line_width_bars/2, capsize=5))\n",
    "        ax.bar(x + width/2, means2, width, yerr=cis2, label=label2, color='#F6DEB8', edgecolor='black', linewidth=line_width_bars,error_kw=dict(lw=line_width_bars/2, capsize=5))\n",
    "    else:\n",
    "        ax.bar(x - width/2, values1, width, label=label1, color=base_color, edgecolor='black', linewidth=line_width_bars)\n",
    "        ax.bar(x + width/2, values2, width, label=label2, color='#F6DEB8', edgecolor='black', linewidth=line_width_bars)\n",
    "\n",
    "    ax.set_xlabel('Scenarios')\n",
    "    ax.set_ylabel(ylabel)\n",
    "    scenarios_labels = [scenarios_to_labels[scen] for scen in scenarios]\n",
    "    ax.set_xticks(x)\n",
    "    ax.set_xticklabels(scenarios_labels)#, rotation=45, ha='right')\n",
    "    ax.legend(fontsize=12)\n",
    "\n",
    "    if save_to_file:\n",
    "        ep_metric_name = sim_to_ep_metric_mapping(metric_name) #hacky fix since the sim_df metric names are illegal for file names\n",
    "        plt.savefig(os.path.join(output_dir, f'{label1}_and_{label2}_{ep_metric_name}.pdf'), bbox_inches = 'tight')\n",
    "\n",
    "    plt.tight_layout()\n",
    "    plt.show()\n",
    "\n",
    "def visualize_stacked_SR_CR(metrics1, scenarios, metrics2=None, agent_name1=None, agent_name2=None, save_to_file=False):\n",
    "    x = np.arange(len(scenarios))\n",
    "    width = 0.5  # 0.4\n",
    "    colors = [color_success,\"blank\",color_collision] # yellow, blank, purple\n",
    "    # colors = [env_green,\"blank\",percept_blue] # green, blank, blue\n",
    "    fig, ax = plt.subplots(figsize=(plot_h, plot_w))\n",
    "    \n",
    "    if metrics2 is None:\n",
    "        success_rates = metrics1['Success Rate']\n",
    "        collision_rates = metrics1['Collision Rate']\n",
    "        \n",
    "        # Sort bars by success rate\n",
    "        # Combine the lists into a list of tuples\n",
    "        combined = list(zip(success_rates, collision_rates, scenarios))\n",
    "        # Sort the combined list by success_rates in descending order\n",
    "        combined.sort(key=lambda x: x[0], reverse=True)\n",
    "        # Unzip the combined list back into individual lists\n",
    "        success_rates, collision_rates, scenarios = zip(*combined)    \n",
    "    \n",
    "        ax.bar(x, success_rates, width, label='Success Rate', color=colors[0], edgecolor='black', linewidth=line_width_bars)\n",
    "        ax.bar(x, collision_rates, width, bottom=success_rates, label='Collision Rate', color=colors[2], edgecolor='black', linewidth=line_width_bars)\n",
    "\n",
    "    else:\n",
    "        success_rates1 = metrics1['Success Rate']\n",
    "        success_rates2 = metrics2['Success Rate']\n",
    "        collision_rates1 = metrics1['Collision Rate']\n",
    "        collision_rates2 = metrics2['Collision Rate']\n",
    "\n",
    "        #ax.bar(x - width/2, success_rates1, width,  label=f'Success Rate {agent_name1}', color=colors[2], edgecolor='black', linewidth=line_width_bars)\n",
    "        #ax.bar(x + width/2, success_rates2, width,  label=f'Success Rate {agent_name2}', color=colors[0], edgecolor='black', linewidth=line_width_bars)\n",
    "        \n",
    "        #ax.bar(x - width/2, collision_rates1, width, bottom=success_rates1, label=f'Collision Rate {agent_name1}', color=colors[2], hatch=cr_hatching_1, edgecolor='black', linewidth=line_width_bars)\n",
    "        #ax.bar(x + width/2, collision_rates2, width, bottom=success_rates2, label=f'Collision Rate {agent_name2}', color=colors[0], hatch=cr_hatching_2, edgecolor='black', linewidth=line_width_bars)\n",
    "\n",
    "        ax.bar(x - width/2, success_rates1, width,  label=f'Success Rate {agent_name1}', color=colors[0], edgecolor='black', linewidth=line_width_bars)\n",
    "        ax.bar(x + width/2, success_rates2, width,  label=f'Success Rate {agent_name2}', color=colors[0], edgecolor='black', hatch=cr_hatching_1, linewidth=line_width_bars)\n",
    "        \n",
    "        ax.bar(x - width/2, collision_rates1, width, bottom=success_rates1, label=f'Collision Rate {agent_name1}', color=colors[2], edgecolor='black', linewidth=line_width_bars)\n",
    "        ax.bar(x + width/2, collision_rates2, width, bottom=success_rates2, label=f'Collision Rate {agent_name2}', color=colors[2], hatch=cr_hatching_2, edgecolor='black', linewidth=line_width_bars)\n",
    "\n",
    "    ax.set_xlabel('Scenarios', fontsize=16)\n",
    "    #ax.set_ylabel('Percentage')\n",
    "    scenarios_labels = [scenarios_to_labels[scen] for scen in scenarios]\n",
    "    ax.set_xticks(x)\n",
    "    ax.set_xticklabels(scenarios_labels)#, rotation=45, ha='right')\n",
    "    for label in ax.get_xticklabels():\n",
    "        label.set_fontsize(16)\n",
    "\n",
    "\n",
    "    # Custom legend\n",
    "    if agent_name1 is None:\n",
    "        colors = {'Success rate':colors[0], 'Collision rate':colors[2]}\n",
    "    else:\n",
    "        colors = {'Success rate':colors[0], 'Collision rate':colors[2], f'{agent_name1}':'white', f'{agent_name2}':'white'}         \n",
    "    labels = list(colors.keys())\n",
    "    handles = [plt.Rectangle((0,0),1,1, facecolor=colors[label], edgecolor='black') for label in labels[:3]] + [plt.Rectangle((0,0),1,1, facecolor=colors[label], edgecolor='black', hatch=cr_hatching_1) for label in labels[3:]]\n",
    "    ax.legend(handles, labels, ncols=2, fontsize=16)\n",
    "\n",
    "    #ax.legend()\n",
    "    \n",
    "    # Do not show ylabels greater than 100, and display every 20%\n",
    "    ax.set_ylim(bottom=0)\n",
    "    ax.set_yticks(np.arange(0, 101, 20))\n",
    "    ax.set_yticklabels([f'{i}%' for i in range(0, 101, 20)])\n",
    "\n",
    "    ax.set_ylim(top=ax.get_ylim()[1] * 1.18)#26)  # Increase the upper limit by 26% to fit legend\n",
    "    \n",
    "    plt.tight_layout()\n",
    "    if save_to_file:\n",
    "        plt.savefig(os.path.join(output_dir, f'{agent_name1}_and_{agent_name2}_SR_CR.pdf'))#, bbox_inches = 'tight')\n",
    "        \n",
    "    \n",
    "    plt.show()"
   ],
   "outputs": [],
   "execution_count": 31
  },
  {
   "cell_type": "markdown",
   "metadata": {},
   "source": [
    "### Available metrics:\n",
    "```'Collision Rate'```\n",
    "\n",
    "```'Success Rate'```\n",
    "\n",
    "```'Progression'```\n",
    "\n",
    "```'Avg. Number of Timesteps'```\n",
    "\n",
    "```'Avg. Speed [m/s]'```\n",
    "\n",
    "```'Avg. Absolute Path Error [m]'```"
   ]
  },
  {
   "cell_type": "markdown",
   "metadata": {},
   "source": [
    "### Loading the agents and colleting metrics"
   ]
  },
  {
   "cell_type": "code",
   "metadata": {
    "ExecuteTime": {
     "end_time": "2024-10-23T14:12:12.800363Z",
     "start_time": "2024-10-23T14:12:12.672333Z"
    }
   },
   "source": [
    "#### The random agent ####\n",
    "exp_dir_path = 'Best_agent_res_gen_2 exp 32'\n",
    "trained_scen = \"advanced\"\n",
    "base_dir = f'../log/LV_VAE_MESH-v0/{exp_dir_path}/{trained_scen}/results_gen'\n",
    "\n",
    "agent_name = \"test_agent_model_10000\"\n",
    "metrics1, n_ep_met1, scenarios1 = collect_agent_metrics(base_dir, agent_name)\n",
    "\n",
    "# metrics1, n_ep_met1, scenarios1, reorder_data(metrics1, n_ep_met1, scenarios1)\n",
    "\n",
    "#### The locked conv agent ####\n",
    "# exp_dir_path = 'Best_agent_res_gen_1 exp 10005'\n",
    "# trained_scen = \"proficient_perturbed\"\n",
    "# base_dir = f'../log/LV_VAE_MESH-v0/{exp_dir_path}/{trained_scen}/results_gen'\n",
    "\n",
    "# agent_name = \"test_agent_model_180000\"\n",
    "# metrics2,n_ep_met2, scenarios2 = collect_agent_metrics(base_dir,agent_name)\n",
    "\n",
    "####The unlocked agent #### worse than the two above\n",
    "# exp_dir_path = 'A_maybe_best_pt_unlocked 10006'\n",
    "# trained_scen = \"expert_perturbed\"\n",
    "# base_dir = f'../log/LV_VAE_MESH-v0/{exp_dir_path}/{trained_scen}/results_gen'\n",
    "# agent_name = \"test_agent_model_30000\"\n",
    "# metrics3,n_ep_met3, scenarios3 = collect_agent_metrics(base_dir, agent_name)\n",
    "\n",
    "\n",
    "# assert scenarios1 == scenarios2 \n",
    "\n",
    "visualize_stacked_SR_CR(metrics1, scenarios1 ,save_to_file=True)\n",
    "\n",
    "# visualiz"
   ],
   "outputs": [
    {
     "data": {
      "text/plain": [
       "<Figure size 1800x600 with 1 Axes>"
      ],
      "image/png": "[encoded data removed]"
     },
     "metadata": {},
     "output_type": "display_data"
    }
   ],
   "execution_count": 32
  },
  {
   "cell_type": "markdown",
   "metadata": {},
   "source": [
    "Note that the displayed hatchin does not reflect the real plot. See the pdf to real result."
   ]
  },
  {
   "cell_type": "code",
   "metadata": {
    "ExecuteTime": {
     "end_time": "2024-10-23T14:12:12.806970Z",
     "start_time": "2024-10-23T14:12:12.805518Z"
    }
   },
   "source": [
    "# visualize_two_agents(metrics1, metrics2, scenarios1, 'Progression', 'Avg. progression [%]',label1='random', label2='locked conv',show_ci=True, episode_metrics1=n_ep_met1, episode_metrics2=n_ep_met2,save_to_file=True)"
   ],
   "outputs": [],
   "execution_count": 33
  },
  {
   "cell_type": "code",
   "metadata": {
    "ExecuteTime": {
     "end_time": "2024-10-23T14:12:12.852026Z",
     "start_time": "2024-10-23T14:12:12.850133Z"
    }
   },
   "source": [
    "# visualize_two_agents(metrics1, metrics2, scenarios1, 'Avg. Speed [m/s]', 'Avg. speed [m/s]',label1='random', label2='locked conv', show_ci=True, episode_metrics1=n_ep_met1, episode_metrics2=n_ep_met2,save_to_file=True)"
   ],
   "outputs": [],
   "execution_count": 34
  },
  {
   "cell_type": "code",
   "metadata": {
    "ExecuteTime": {
     "end_time": "2024-10-23T14:12:12.895804Z",
     "start_time": "2024-10-23T14:12:12.894191Z"
    }
   },
   "source": [
    "# visualize_two_agents(metrics1, metrics2, scenarios1, 'Avg. Absolute Path Error [m]', 'Avg. path deviance [m]',label1='random', label2='locked conv', show_ci=True, episode_metrics1=n_ep_met1, episode_metrics2=n_ep_met2,save_to_file=True)"
   ],
   "outputs": [],
   "execution_count": 35
  },
  {
   "cell_type": "markdown",
   "metadata": {},
   "source": [
    "### Single plotting, not used honestly"
   ]
  },
  {
   "cell_type": "code",
   "metadata": {
    "ExecuteTime": {
     "end_time": "2024-10-23T14:12:13.058759Z",
     "start_time": "2024-10-23T14:12:12.938681Z"
    }
   },
   "source": [
    "exp_id = 32\n",
    "trained_scen = \"advanced\"\n",
    "agent_name = \"test_agent_model_10000\" \n",
    "exp_dir_path = f'Best_agent_res_gen_2 exp {exp_id}'\n",
    "base_dir = f'../log/LV_VAE_MESH-v0/{exp_dir_path}/{trained_scen}/results_gen'\n",
    "\n",
    "metrics, epmet, scenarios = collect_agent_metrics(base_dir, agent_name)\n",
    "# For single metric visualization\n",
    "#The metrics that need CI\n",
    "#visualize_metrics(metrics, scenarios, 'Avg. Speed [m/s]', 'Average Speed [m/s]', show_ci=True, episode_metrics=epmet, save_to_file=True)\n",
    "#visualize_metrics(metrics, scenarios, 'Avg. Absolute Path Error [m]', 'Average Absolute Path Error [m]', show_ci=True, episode_metrics=epmet, save_to_file=True)\n",
    "visualize_metrics(metrics, scenarios, 'Progression', 'Progression', show_ci=True, episode_metrics=epmet, save_to_file=True)\n",
    "#Per now the naming \n",
    "\n",
    "#Percentages dont need CI (?)\n",
    "# visualize_metrics(metrics, scenarios, 'Success Rate', 'Success Rate')\n",
    "# visualize_metrics(metrics, scenarios, 'Collision Rate', 'Collision Rate')\n",
    "# visualize_metrics(metrics, scenarios, 'Avg. Number of Timesteps', 'Average Number of Timesteps') #Unused\n",
    "\n",
    "# For combined percentage metrics visualization (unused)\n",
    "# visualize_percentages_together_one_agent(metrics, scenarios)"
   ],
   "outputs": [
    {
     "data": {
      "text/plain": [
       "<Figure size 1800x600 with 1 Axes>"
      ],
      "image/png": "[encoded data removed]"
     },
     "metadata": {},
     "output_type": "display_data"
    }
   ],
   "execution_count": 36
  }
 ],
 "metadata": {
  "kernelspec": {
   "display_name": "c121_quad3D",
   "language": "python",
   "name": "python3"
  },
  "language_info": {
   "codemirror_mode": {
    "name": "ipython",
    "version": 3
   },
   "file_extension": ".py",
   "mimetype": "text/x-python",
   "name": "python",
   "nbconvert_exporter": "python",
   "pygments_lexer": "ipython3",
   "version": "3.10.13"
  }
 },
 "nbformat": 4,
 "nbformat_minor": 2
}
